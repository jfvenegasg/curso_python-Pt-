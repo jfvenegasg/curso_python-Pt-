{
 "cells": [
  {
   "cell_type": "markdown",
   "metadata": {
    "slideshow": {
     "slide_type": "slide"
    },
    "tags": []
   },
   "source": [
    "# Bem-vindo ao curso **Introdução à Ciência de Dados com Python**"
   ]
  },
  {
   "cell_type": "markdown",
   "metadata": {},
   "source": [
    "<center>\n",
    "<img src=https://media.geeksforgeeks.org/wp-content/uploads/20230222183754/Data-Science-Fir-beginner.png>"
   ]
  },
  {
   "cell_type": "markdown",
   "metadata": {},
   "source": [
    "## Metas"
   ]
  },
  {
   "cell_type": "markdown",
   "metadata": {},
   "source": [
    "* Reconhecer os usos da linguagem Python.\n",
    "* Compreender os conceitos básicos e funcionalidades do Python.\n",
    "* Desenvolvimento de código para desenho de soluções."
   ]
  },
  {
   "cell_type": "markdown",
   "metadata": {
    "tags": []
   },
   "source": [
    "<a id='Índice'></a>\n",
    "## Índice\n",
    "[Índice ▲](#Índice)\n",
    "\n",
    "1. [Olá Python](#Olá-Python)\n",
    "2. [Functions](#Functions)\n",
    "3. [Booleans and conditionals](#Booleans-and-conditionals)\n",
    "4. [Lists](#Lists)\n",
    "5. [Cycles](#Cycles)\n",
    "6. [Dictionaries](#Dictionaries)\n",
    "7. [Working with libraries](#Working-with-libraries)\n",
    "    1. [Library Numpy](#Library-Numpy)\n",
    "    2. [Library Matplotlib](#Library-Matplotlib)\n",
    "    3. [Library Plotly](#Library-Plotly)\n",
    "    4. [Library Scikit-Learn](#Library-Scikit-Learn)\n"
   ]
  },
  {
   "cell_type": "markdown",
   "metadata": {},
   "source": [
    "<a id='Olá Python'></a>\n",
    "### Olá Python 🚀\n",
    "\n",
    "[Índice ▲](#Índice)\n",
    "\n",
    "Este curso introdutório cobre os aspectos básicos da linguagem Python, que você precisará para começar na área de Ciência de Dados. Este curso é dedicado principalmente para quem já tem experiência com código ou até mesmo com outra linguagem como R, Julia, Matlab, entre outras.\n",
    "\n",
    "Começaremos primeiro com a sintaxe do Python, bem como com a atribuição de variáveis ​​e operações aritméticas.\n",
    "\n",
    "Geralmente em um projeto de ciência de dados, precisamos apresentar resultados de modelos, gráficos e/ou análises. Desta forma, uma primeira mensagem que poderíamos desenvolver seria que nosso projeto foi bem sucedido, para isso devemos definir a variável onde salvaremos a mensagem “O projeto foi bem sucedido”."
   ]
  },
  {
   "cell_type": "code",
   "execution_count": 1,
   "metadata": {},
   "outputs": [
    {
     "name": "stdout",
     "output_type": "stream",
     "text": [
      "O projeto foi bem sucedido.\n"
     ]
    }
   ],
   "source": [
    "mensagem=\"O projeto foi bem sucedido.\"\n",
    "print(mensagem)"
   ]
  },
  {
   "cell_type": "markdown",
   "metadata": {},
   "source": [
    "Como você pode ver, expor resultados em Python não é tão difícil quanto pensamos.\n",
    "\n",
    "Assim como no bloco de código anterior, em Python você pode trabalhar com diversos tipos de variáveis: Numérica, String, entre outros subtipos. Mas deve-se destacar que quando falamos em variáveis ​​numéricas, com elas podemos realizar todos os tipos de operações aritméticas e com as variáveis ​​do tipo String podemos gerar textos que mostram a saída de um processo bem sucedido ou até mesmo gerar documentação.\n",
    "\n",
    "Abaixo podemos ver um exemplo de uma variável numérica que armazena o valor 33 e uma variável string que armazena o texto “Esta é minha idade”"
   ]
  },
  {
   "cell_type": "code",
   "execution_count": 2,
   "metadata": {},
   "outputs": [],
   "source": [
    "número=33\n",
    "frase = \"Esta é a minha idade\""
   ]
  },
  {
   "cell_type": "markdown",
   "metadata": {},
   "source": [
    "No entanto, poderíamos trabalhar com as duas variáveis ​​juntas e exibi-las como uma saída, conforme mostrado abaixo com a variável **print()**"
   ]
  },
  {
   "cell_type": "code",
   "execution_count": 3,
   "metadata": {},
   "outputs": [
    {
     "name": "stdout",
     "output_type": "stream",
     "text": [
      "Esta é a minha idade 33\n"
     ]
    }
   ],
   "source": [
    "print(frase,número)"
   ]
  },
  {
   "cell_type": "markdown",
   "metadata": {},
   "source": [
    "Já vimos os tipos de variáveis, mas se tivermos dúvidas sobre a definição, podemos verificar o tipo de variável com a qual estamos trabalhando."
   ]
  },
  {
   "cell_type": "code",
   "execution_count": 4,
   "metadata": {},
   "outputs": [
    {
     "data": {
      "text/plain": [
       "int"
      ]
     },
     "execution_count": 4,
     "metadata": {},
     "output_type": "execute_result"
    }
   ],
   "source": [
    "type(número)"
   ]
  },
  {
   "cell_type": "code",
   "execution_count": 5,
   "metadata": {},
   "outputs": [
    {
     "data": {
      "text/plain": [
       "str"
      ]
     },
     "execution_count": 5,
     "metadata": {},
     "output_type": "execute_result"
    }
   ],
   "source": [
    "type(frase)"
   ]
  },
  {
   "cell_type": "markdown",
   "metadata": {},
   "source": [
    "Como podemos ver na saída do bloco, a variável que armazena o valor numérico é do tipo **\"int\"**, esta é uma abreviatura de **\"integer\"**, em vez disso, para a variável de frase o tipo é **\"str\"** referindo-se a **\"string\"** ou string de texto. Porém, também poderíamos definir uma variável que armazene um valor numérico como texto, neste caso não poderíamos realizar operações aritméticas com ela."
   ]
  },
  {
   "cell_type": "code",
   "execution_count": 1,
   "metadata": {},
   "outputs": [
    {
     "name": "stdout",
     "output_type": "stream",
     "text": [
      "A variável 'outro_número', armazena o valor 28,2\n"
     ]
    }
   ],
   "source": [
    "outro_número=\"28,2\"\n",
    "type(outro_número)\n",
    "\n",
    "print(\"A variável 'outro_número', armazena o valor\",outro_número)"
   ]
  },
  {
   "cell_type": "markdown",
   "metadata": {},
   "source": [
    "Porém, se quisermos trabalhar com variáveis ​​numéricas com valores decimais como **\"30.2\"** **\"23.4\"** ou outros, podemos definir variável do tipo **float**."
   ]
  },
  {
   "cell_type": "code",
   "execution_count": 2,
   "metadata": {},
   "outputs": [
    {
     "name": "stdout",
     "output_type": "stream",
     "text": [
      "A variável number_float, tem o valor (30, 2) e seu tipo é <class 'tuple'>\n"
     ]
    }
   ],
   "source": [
    "número_float=30,2\n",
    "\n",
    "print(\"A variável number_float, tem o valor\",número_float,\"e seu tipo é\",type(número_float))"
   ]
  },
  {
   "cell_type": "markdown",
   "metadata": {},
   "source": [
    "Desta forma, se quisermos realizar operações aritméticas com variáveis ​​do tipo inteiro ou flutuante, podemos realizar as operações listadas na tabela a seguir.\n",
    "\n",
    "<table ><tr><th> Sintaxe <th><th> Operação <th><th> Descrição <tr><tr>\n",
    "<tr><td> x + y <td><td> Adição <td><td> A soma de x e y <td><tr>\n",
    "<tr><td> x - y <td><td> Subtração <td><td> A diferença entre x e y y <td><tr>\n",
    "<tr><td> x * y <td><td> Multiplicação <td><td> O produto entre x e y <td><tr>\n",
    "<tr><td> x / y <td><td> Divisão <td><td> O quociente entre x e y. <td><tr>\n",
    "<tr><td> x % y <td><td> Módulo <td><td> O valor inteiro restante, após a divisão de x e y. <td><tr>\n",
    "<tr><td> x ** y <td><td> Empoderamento <td><td> O resultado de elevar x a y. <td><tr>\n",
    "<tr><td> -x <td><td> Negação <td><td> O valor negativo de x. <td><tr><tabela>"
   ]
  },
  {
   "cell_type": "markdown",
   "metadata": {},
   "source": [
    "De acordo com o exposto, podemos realizar algumas operações básicas como adição, subtração, divisão e multiplicação... definindo previamente as variáveis ​​​​x e y."
   ]
  },
  {
   "cell_type": "code",
   "execution_count": 4,
   "metadata": {},
   "outputs": [],
   "source": [
    "x=10\n",
    "y=2"
   ]
  },
  {
   "cell_type": "code",
   "execution_count": 9,
   "metadata": {},
   "outputs": [
    {
     "name": "stdout",
     "output_type": "stream",
     "text": [
      "12\n"
     ]
    }
   ],
   "source": [
    "print(x+2)"
   ]
  },
  {
   "cell_type": "code",
   "execution_count": 10,
   "metadata": {},
   "outputs": [
    {
     "name": "stdout",
     "output_type": "stream",
     "text": [
      "8\n"
     ]
    }
   ],
   "source": [
    "print(x-2)"
   ]
  },
  {
   "cell_type": "code",
   "execution_count": 5,
   "metadata": {},
   "outputs": [
    {
     "name": "stdout",
     "output_type": "stream",
     "text": [
      "A divisão entre y é 5.0\n"
     ]
    }
   ],
   "source": [
    "print(\"A divisão entre y é\",x/y)"
   ]
  },
  {
   "cell_type": "code",
   "execution_count": 6,
   "metadata": {},
   "outputs": [
    {
     "name": "stdout",
     "output_type": "stream",
     "text": [
      "A multiplicação entre as variáveis ​​x e y é 20\n"
     ]
    }
   ],
   "source": [
    "print(\"A multiplicação entre as variáveis ​​x e y é\",x*y)"
   ]
  },
  {
   "cell_type": "markdown",
   "metadata": {},
   "source": [
    "Mas também podemos tornar alguns cálculos um pouco mais complexos, como determinar volumes de cubos, cones ou outras figuras."
   ]
  },
  {
   "cell_type": "code",
   "execution_count": 7,
   "metadata": {},
   "outputs": [
    {
     "name": "stdout",
     "output_type": "stream",
     "text": [
      "Um cubo de face 5 tem um volume de: 125 cm^3\n"
     ]
    }
   ],
   "source": [
    "face = 5\n",
    "print(\"Um cubo de face\",face,\"tem um volume de:\",face**3,\"cm^3\")"
   ]
  },
  {
   "cell_type": "code",
   "execution_count": 8,
   "metadata": {},
   "outputs": [
    {
     "name": "stdout",
     "output_type": "stream",
     "text": [
      "O volume de um paralelepípedo, com altura de 2 largura 4 e comprimento 7 é de:  56 cm^3\n"
     ]
    }
   ],
   "source": [
    "altura=2\n",
    "largura = 4\n",
    "comprimento=7\n",
    "\n",
    "print(\"O volume de um paralelepípedo, com altura de\",altura,\"largura\",largura,\"e comprimento\",comprimento,\"é de: \",altura*largura*comprimento,\"cm^3\")"
   ]
  },
  {
   "cell_type": "markdown",
   "metadata": {},
   "source": [
    "<a id='Functions'></a>\n",
    "### Functions 🎸\n",
    "\n",
    "[Index ▲](#Index)\n",
    "\n",
    "Just as in the previous section we saw how to define, manipulate some types of variables and even define some formulas, in other cases we will need to define more complex procedures and/or that require several steps for their execution and for this we will use functions, which we can use whenever we want.\n",
    "\n",
    "As a first function we could define a simple function that prints some values on the screen\n"
   ]
  },
  {
   "cell_type": "code",
   "execution_count": 15,
   "metadata": {},
   "outputs": [
    {
     "name": "stdout",
     "output_type": "stream",
     "text": [
      "Good Morning:  juan the balance in your account is: 100\n"
     ]
    }
   ],
   "source": [
    "def function_balance(name):\n",
    "    \"This is the help of function\"\n",
    "    \n",
    "    balance=100\n",
    "    return print(\"Good Morning: \",name,\"the balance in your account is:\",balance)\n",
    "\n",
    "function_balance(name=\"juan\")"
   ]
  },
  {
   "cell_type": "markdown",
   "metadata": {},
   "source": [
    "Every function in Python starts with the reserved word **def**, then the name which in this case is **function_balance** and within parentheses the variables that the function accepts. Once the variable accepts the variable name, A balance of 100 is generated and saved in the balance variable. Finally, the function returns a message to the user.\n",
    "\n",
    "However, if we want to know a little more about the function we can call its help with the **help()** function"
   ]
  },
  {
   "cell_type": "code",
   "execution_count": 16,
   "metadata": {},
   "outputs": [
    {
     "name": "stdout",
     "output_type": "stream",
     "text": [
      "Help on function function_balance in module __main__:\n",
      "\n",
      "function_balance(name)\n",
      "    This is the help of function\n",
      "\n"
     ]
    }
   ],
   "source": [
    "help(function_balance)"
   ]
  },
  {
   "cell_type": "markdown",
   "metadata": {},
   "source": [
    "In this case, the help information of the function is provided. However, we can add more detailed information to the description of the function using the triple quotes **\"\"\"** within it."
   ]
  },
  {
   "cell_type": "code",
   "execution_count": 17,
   "metadata": {},
   "outputs": [
    {
     "name": "stdout",
     "output_type": "stream",
     "text": [
      "Help on function function_balance in module __main__:\n",
      "\n",
      "function_balance(name)\n",
      "    This is the help of the function_balance.This function\n",
      "    print of message with the input name and the default balance\n",
      "    is 100\n",
      "\n"
     ]
    }
   ],
   "source": [
    "def function_balance(name):\n",
    "    \"\"\"This is the help of the function_balance.This function\n",
    "    print of message with the input name and the default balance\n",
    "    is 100\n",
    "    \"\"\"\n",
    "    \n",
    "    balance=100\n",
    "    return print(\"Good morning: \",name,\"the balance in your account:\",balance)\n",
    "\n",
    "help(function_balance)"
   ]
  },
  {
   "cell_type": "markdown",
   "metadata": {},
   "source": [
    "In this case, the help information of the function is provided. However, we can add more detailed information to the description of the function using the triple quotes **\"\"\"** within it.Unlike the previous code, now it is explicitly shown what the function does, which was added in the new definition of the function **\"function_balance\"**.\n",
    "\n",
    "But we can also define functions that perform some more extensive operations, as well as mathematical operations that take different values depending on the variables defined for the function.\n",
    "\n",
    "In this case the **difference** function determines the absolute differences that exist between 3 variables **a**, **b** and **c**. Thus, the differences are determined inside the function and then they are returned along with the text that shows which pairs of variables the differences are determined. It should be noted that the help was also written for this function."
   ]
  },
  {
   "cell_type": "code",
   "execution_count": 18,
   "metadata": {},
   "outputs": [
    {
     "name": "stdout",
     "output_type": "stream",
     "text": [
      "Help on function difference in module __main__:\n",
      "\n",
      "difference(a, b, c)\n",
      "    This function return the difference between three values that are delivered\n",
      "\n",
      "The difference between a and b is 10 The difference between a and c is 20 and the difference between b and c is 10\n"
     ]
    }
   ],
   "source": [
    "def difference(a,b,c):\n",
    "    \"\"\" This function return the difference between three values that are delivered\"\"\"\n",
    "    \n",
    "    dif1=abs(a-b)\n",
    "    dif2=abs(a-c)\n",
    "    dif3=abs(b-c)\n",
    "    return print(\"The difference between a and b is\",dif1,\"The difference between a and c is\",dif2,\"and the difference between b and c is\",dif3)\n",
    "    \n",
    "\n",
    "help(difference)\n",
    "\n",
    "difference(10,20,30)"
   ]
  },
  {
   "cell_type": "markdown",
   "metadata": {},
   "source": [
    "But things can still be complicated a little more...👀 In many cases we will use functions for specific tasks, but in others we might need to apply another function to a function immediately, that way the output of the first one will be applied a new function. If we create a first function multi_1(x), which multiplies the input value by 2, we could modify the output with a new function multi_2(fn)"
   ]
  },
  {
   "cell_type": "code",
   "execution_count": 19,
   "metadata": {},
   "outputs": [
    {
     "data": {
      "text/plain": [
       "60"
      ]
     },
     "execution_count": 19,
     "metadata": {},
     "output_type": "execute_result"
    }
   ],
   "source": [
    "def multi_1(x=2):\n",
    "    \"\"\"This first function multiply for 2 the input variable,by default the input value is 2\"\"\"\n",
    "    \n",
    "    y=x*2\n",
    "    return y\n",
    "\n",
    "def multi_2(fn):\n",
    "    \"\"\" This function take the output of multi_1 and multiplies for 2 \"\"\"\n",
    "\n",
    "    z=fn*3\n",
    "    return z\n",
    "\n",
    "\n",
    "multi_2(multi_1(10))\n"
   ]
  },
  {
   "cell_type": "markdown",
   "metadata": {},
   "source": [
    "In this way we can call a function within another, when we give **multi_1()** the value of 10, it multiplies it by 2 and returns 20. So then this value 20 is taken by the function **multi_2 ()** and multiplies it by **3**, thus obtaining the value **60** that is shown on the screen."
   ]
  },
  {
   "cell_type": "markdown",
   "metadata": {},
   "source": [
    "<a id='Booleans-and-conditionals'></a>\n",
    "### Booleans and conditionals 🕹\n",
    "\n",
    "[Index ▲](#Index)\n",
    "\n",
    "We already saw that in Python there are different types of variables such as \"integer\" and \"string\", but we will not always work with numbers or text. We can use the variables **\"bool\"**, which have 2 possible values **\"True \"** or **\"False\"**.\n",
    "\n",
    "We can obtain these variables as the output of other functions, but we can also define and validate this type of variable whenever necessary."
   ]
  },
  {
   "cell_type": "code",
   "execution_count": 20,
   "metadata": {},
   "outputs": [
    {
     "name": "stdout",
     "output_type": "stream",
     "text": [
      "True\n",
      "<class 'bool'>\n"
     ]
    }
   ],
   "source": [
    "x=True\n",
    "print(x)\n",
    "print(type(x))\n"
   ]
  },
  {
   "cell_type": "markdown",
   "metadata": {},
   "source": [
    "In this case we can see that the value of x is **\"True\"** and when validating the type of variables which is x, it returns on the screen that it is **\"bool\"** or **\"boolean\"* *.\n",
    "\n",
    "We can also define other variables and check if their values are the same or different."
   ]
  },
  {
   "cell_type": "code",
   "execution_count": 21,
   "metadata": {},
   "outputs": [
    {
     "data": {
      "text/plain": [
       "False"
      ]
     },
     "execution_count": 21,
     "metadata": {},
     "output_type": "execute_result"
    }
   ],
   "source": [
    "y=False\n",
    "\n",
    "x==y"
   ]
  },
  {
   "cell_type": "markdown",
   "metadata": {},
   "source": [
    "In this case, when defining a new variable *y* as **\"False\"**, we can see that when checking with the **\"==\"** sign if they are equal, the value \"False\" is returned, due to to which x is assigned the value **True** instead and is assigned the value **False**.\n",
    "\n",
    "However, we can use various operators between Boolean variables as appropriate.\n",
    "\n",
    "<table ><tr><th> Operation <th><th> Description <tr><tr>\n",
    "<tr><td> x == y<td><td>x is equal to y<td><tr>\n",
    "<tr><td> x < y<td><td>x is minor than y<td><tr>\n",
    "<tr><td> x <= y<td><td>x is minor or equal than y<td><tr>\n",
    "<tr><td> x != y<td><td>x is not equal to y<td><tr>\n",
    "<tr><td> x > y<td><td>x is greater than y<td><tr>\n",
    "<tr><td> x >= y<td><td>x is greater or equal to y<td><tr><table>\n",
    "\n",
    "By this way,we can integrate this type of variables and the operations in some any functions."
   ]
  },
  {
   "cell_type": "code",
   "execution_count": 22,
   "metadata": {},
   "outputs": [
    {
     "name": "stdout",
     "output_type": "stream",
     "text": [
      "Your balance is 100\n"
     ]
    }
   ],
   "source": [
    "def cashier(card):\n",
    "    \"\"\" This function allows you validate,if the card have balance or not \"\"\"\n",
    "    \n",
    "    balance=100\n",
    "    if card==True:\n",
    "        return print(\"Your balance is\",balance)\n",
    "    else: \n",
    "        return print(\"Not possible validate your balance in this moment.\")\n",
    "              \n",
    "\n",
    "cashier(card=True)\n",
    "\n"
   ]
  },
  {
   "cell_type": "markdown",
   "metadata": {},
   "source": [
    "And this,allows you validate if the **card** variable have the **TRUE** value in the cashier.The cashier function return the message **Your balance is 100**,and in other case is not possible validate the balance."
   ]
  },
  {
   "cell_type": "markdown",
   "metadata": {},
   "source": [
    "## Functions and conditions\n",
    "\n",
    "As we saw in the previous code we can verify the value assigned to a numeric, boolean or string variable, using an operator and a condition. This is because if a variable meets a certain condition, a block of code is executed, otherwise another block of code is executed.\n",
    "\n",
    "Although we can also verify if more than one condition is met, as in the following inspector function."
   ]
  },
  {
   "cell_type": "code",
   "execution_count": 23,
   "metadata": {},
   "outputs": [
    {
     "name": "stdout",
     "output_type": "stream",
     "text": [
      "0 Is zero\n",
      "-10 Is negative\n"
     ]
    }
   ],
   "source": [
    "def checker(x):\n",
    "    if x==0:\n",
    "        print(x,\"Is zero\")\n",
    "    elif x>0:\n",
    "        print(x,\"Is positive\")\n",
    "    else: \n",
    "        print(x,\"Is negative\")\n",
    "\n",
    "checker(0)\n",
    "checker(-10)\n",
    "\n",
    "\n"
   ]
  },
  {
   "cell_type": "markdown",
   "metadata": {},
   "source": [
    "In this case, the function, once it is given a numerical value, is able to determine *if it is equal to 0*, *greater than 0* or even *if it is less than 0*.\n",
    "\n",
    "This is done through the **if** condition, where this if condition verifies that the condition **x==0** is met, if not met, the verification that it is greater than 0 is used with **elif* * and if none of the previous two are met, the last block of code corresponding to **print(x,\"It is negative\")** is executed.\n",
    "\n",
    "Some last considerations for Boolean variables. We can convert almost any type of data to a Boolean variable, in this way every positive value or non-empty text will be considered in Python as a True value and the value 0 or empty text as False, as in the next case."
   ]
  },
  {
   "cell_type": "code",
   "execution_count": 24,
   "metadata": {},
   "outputs": [
    {
     "name": "stdout",
     "output_type": "stream",
     "text": [
      "True\n",
      "True\n",
      "False\n",
      "False\n"
     ]
    }
   ],
   "source": [
    "print(bool(12))\n",
    "print(bool(\"Hi\"))\n",
    "print(bool(0))\n",
    "print(bool(\"\"))"
   ]
  },
  {
   "cell_type": "markdown",
   "metadata": {},
   "source": [
    "<a id='Lists'></a>\n",
    "### Lists 🏗\n",
    "\n",
    "[Index ▲](#Index)\n",
    "\n",
    "Lists in Python are a data structure similar to what we do with the variables we already know, but they allow us to perform more complex operations.\n",
    "\n",
    "This way in a list we can store a sequence of values, like the lists generated for the **primes** and **days** variables below."
   ]
  },
  {
   "cell_type": "code",
   "execution_count": 25,
   "metadata": {},
   "outputs": [],
   "source": [
    "primes=[2,3,5,7]\n",
    "\n",
    "days=[\"Monday\",\"Tuesday\",\"Wednesday\",\"Thursday\",\"Friday\"]"
   ]
  },
  {
   "cell_type": "markdown",
   "metadata": {},
   "source": [
    "As you can see, both are lists, however in the first we store only numerical values and in the second we store strings.\n",
    "\n",
    "But we can take it a little further and create a list of lists 👀"
   ]
  },
  {
   "cell_type": "code",
   "execution_count": 26,
   "metadata": {},
   "outputs": [],
   "source": [
    "cards=[[\"j\",\"q\",\"k\"],[2,3,5],[5,\"A\",\"K\"]]"
   ]
  },
  {
   "cell_type": "markdown",
   "metadata": {},
   "source": [
    "In this case we generate a list composed of **3 lists**, however each of these lists is different. The first only contains **string** values, the second only **numeric** values and the third contains both numeric values as string.\n",
    "\n",
    "Since we have a list that has a more extensive structure, we might want to select some of its values and not always deal with the entire **cards** list. So we could select"
   ]
  },
  {
   "cell_type": "code",
   "execution_count": 27,
   "metadata": {},
   "outputs": [
    {
     "name": "stdout",
     "output_type": "stream",
     "text": [
      "[2, 3, 5]\n",
      "[5, 'A', 'K']\n"
     ]
    }
   ],
   "source": [
    "print(cards[1])\n",
    "\n",
    "print(cards[2])"
   ]
  },
  {
   "cell_type": "markdown",
   "metadata": {},
   "source": [
    "So we can select the second list of cards or even select the third list of cards. But we could even select one of the elements of these lists as in the next block."
   ]
  },
  {
   "cell_type": "code",
   "execution_count": 28,
   "metadata": {},
   "outputs": [
    {
     "name": "stdout",
     "output_type": "stream",
     "text": [
      "2\n",
      "K\n"
     ]
    }
   ],
   "source": [
    "print(cards[1][0])\n",
    "\n",
    "print(cards[2][2])"
   ]
  },
  {
   "cell_type": "markdown",
   "metadata": {},
   "source": [
    "There you can see how we can select the first element of the second list obtaining the value of **2** or select the third element of the third list obtaining the string **K**.\n",
    "\n",
    "But if once we define the card list, we want to add a new hand... sorry a new list, we can do it with the following assignment."
   ]
  },
  {
   "cell_type": "code",
   "execution_count": 29,
   "metadata": {},
   "outputs": [
    {
     "data": {
      "text/plain": [
       "[['A', 'J', 'Q'], [2, 3, 5], [5, 'A', 'K']]"
      ]
     },
     "execution_count": 29,
     "metadata": {},
     "output_type": "execute_result"
    }
   ],
   "source": [
    "cards[0]=[\"A\",\"J\",\"Q\"]\n",
    "\n",
    "cards"
   ]
  },
  {
   "cell_type": "markdown",
   "metadata": {},
   "source": [
    "Now as expected, we can also use some functions on these lists. In this case we might want to determine the number of days that the days variable has 😅... or even sort the days alphabetically... or even mathematical operations like the sum of the prime numbers or determine the maximum of them."
   ]
  },
  {
   "cell_type": "code",
   "execution_count": 30,
   "metadata": {},
   "outputs": [
    {
     "name": "stdout",
     "output_type": "stream",
     "text": [
      "5\n",
      "['Friday', 'Monday', 'Thursday', 'Tuesday', 'Wednesday']\n",
      "17\n",
      "7\n"
     ]
    }
   ],
   "source": [
    "# How many days are there in a week\n",
    "print(len(days))\n",
    "\n",
    "# Sort the days alphabetically\n",
    "print(sorted(days))\n",
    "\n",
    "# sum of prime numbers\n",
    "print(sum(primes))\n",
    "\n",
    "#maximum  of prime numbers\n",
    "print(max(primes))"
   ]
  },
  {
   "cell_type": "markdown",
   "metadata": {},
   "source": [
    "#### Methods\n",
    "\n",
    "Unlike the functions that are already created in Python or those that we can define. There are also methods that are already created in Python **Built-in**, which however depend on the type of variable we are working with.\n",
    "\n",
    "Some of the methods developed in Python for different types of variables:\n",
    "\n",
    "<table ><tr><th>Method<th><th>Description<tr><tr >\n",
    "<tr><td>capitalize()<td><td>Convert in capitalize the first character in the string.<td><tr>\n",
    "<tr><td>index()<td><td>Search the position of a character and return.<td><tr>\n",
    "<tr><td>split()<td><td>Separate a string and convert in a list.<td><tr>\n",
    "<tr><td>upper()<td><td>Convert in capitalize all character of a string.<td><tr>\n",
    "<tr><td>lower()<td><td>Convert all character of a string in lower.<td><tr><table>   \n",
    "    "
   ]
  },
  {
   "cell_type": "code",
   "execution_count": 31,
   "metadata": {},
   "outputs": [
    {
     "data": {
      "text/plain": [
       "'This a test text'"
      ]
     },
     "execution_count": 31,
     "metadata": {},
     "output_type": "execute_result"
    }
   ],
   "source": [
    "text=\"This a test text\"\n",
    "text.capitalize()"
   ]
  },
  {
   "cell_type": "code",
   "execution_count": 32,
   "metadata": {},
   "outputs": [
    {
     "data": {
      "text/plain": [
       "12"
      ]
     },
     "execution_count": 32,
     "metadata": {},
     "output_type": "execute_result"
    }
   ],
   "source": [
    "text.index(\"text\")"
   ]
  },
  {
   "cell_type": "code",
   "execution_count": 33,
   "metadata": {},
   "outputs": [
    {
     "data": {
      "text/plain": [
       "['This', 'a', 'test', 'text']"
      ]
     },
     "execution_count": 33,
     "metadata": {},
     "output_type": "execute_result"
    }
   ],
   "source": [
    "text.split()"
   ]
  },
  {
   "cell_type": "code",
   "execution_count": 34,
   "metadata": {},
   "outputs": [
    {
     "data": {
      "text/plain": [
       "'THIS A TEST TEXT'"
      ]
     },
     "execution_count": 34,
     "metadata": {},
     "output_type": "execute_result"
    }
   ],
   "source": [
    "text.upper()"
   ]
  },
  {
   "cell_type": "code",
   "execution_count": 35,
   "metadata": {},
   "outputs": [
    {
     "data": {
      "text/plain": [
       "'this a test text'"
      ]
     },
     "execution_count": 35,
     "metadata": {},
     "output_type": "execute_result"
    }
   ],
   "source": [
    "text.lower()"
   ]
  },
  {
   "cell_type": "markdown",
   "metadata": {},
   "source": [
    "But we could also use methods on numerical variables, lists and others. However, the main difference between a method and a function is that the methods will always be part of a class, otherwise they are part of the functionalities that we can give to an object .\n",
    "\n",
    "Perhaps so far we have not talked about objects, however objects are one of the main features of Python, since this is a software that supports Object Oriented Programming (OOP), in a later course."
   ]
  },
  {
   "cell_type": "markdown",
   "metadata": {},
   "source": [
    "#### Tuples\n",
    "\n",
    "Tuples are similar to lists, however they have some differences with lists. At first we can define them in a similar way to the one generated and saved in the variable t"
   ]
  },
  {
   "cell_type": "code",
   "execution_count": 36,
   "metadata": {},
   "outputs": [
    {
     "data": {
      "text/plain": [
       "(1, 2, 3)"
      ]
     },
     "execution_count": 36,
     "metadata": {},
     "output_type": "execute_result"
    }
   ],
   "source": [
    "t=(1,2,3)\n",
    "t"
   ]
  },
  {
   "cell_type": "markdown",
   "metadata": {},
   "source": [
    "In this case we only change the type of parentheses to create the tuple t, however if we wanted to change any of the values of the tuple as in the previous cases we cannot, below is a forced error... 👀"
   ]
  },
  {
   "cell_type": "code",
   "execution_count": 37,
   "metadata": {},
   "outputs": [
    {
     "ename": "TypeError",
     "evalue": "'tuple' object does not support item assignment",
     "output_type": "error",
     "traceback": [
      "\u001b[1;31m---------------------------------------------------------------------------\u001b[0m",
      "\u001b[1;31mTypeError\u001b[0m                                 Traceback (most recent call last)",
      "Cell \u001b[1;32mIn [37], line 1\u001b[0m\n\u001b[1;32m----> 1\u001b[0m \u001b[43mt\u001b[49m\u001b[43m[\u001b[49m\u001b[38;5;241;43m0\u001b[39;49m\u001b[43m]\u001b[49m\u001b[38;5;241m=\u001b[39m\u001b[38;5;241m1\u001b[39m\n",
      "\u001b[1;31mTypeError\u001b[0m: 'tuple' object does not support item assignment"
     ]
    }
   ],
   "source": [
    "t[0]=1"
   ]
  },
  {
   "cell_type": "markdown",
   "metadata": {},
   "source": [
    "But as we already saw, we can also use methods on tuples. In this case, if we have a float type variable, we can use the **as_integer_ratio()** method to return a **tuple** composed of the **numerator and denominator* * from the float variable."
   ]
  },
  {
   "cell_type": "code",
   "execution_count": null,
   "metadata": {},
   "outputs": [],
   "source": [
    "x=0.125\n",
    "\n",
    "numerator,denominator=x.as_integer_ratio()\n",
    "\n",
    "print(numerator/denominator)"
   ]
  },
  {
   "cell_type": "markdown",
   "metadata": {},
   "source": [
    "<a id='Cycles'></a>\n",
    "### Cycles 🎰\n",
    "\n",
    "[Index ▲](#Index)\n",
    "\n",
    "Life has many cycles... well not exactly like the ones we are going to see now, but they certainly have a lot in common with routines. As we have seen we can define lists of *text strings*, in this case we can define a list with the days of the week."
   ]
  },
  {
   "cell_type": "markdown",
   "metadata": {},
   "source": [
    "#### Loop for"
   ]
  },
  {
   "cell_type": "code",
   "execution_count": null,
   "metadata": {},
   "outputs": [],
   "source": [
    "days=[\"Monday\",\"Tuesday\",\"Wednesday\",\"Thursday\",\"Friday\",\"Saturday\"]"
   ]
  },
  {
   "cell_type": "markdown",
   "metadata": {},
   "source": [
    "And we could show each day on the screen with a for loop"
   ]
  },
  {
   "cell_type": "code",
   "execution_count": null,
   "metadata": {},
   "outputs": [],
   "source": [
    "for i in days:\n",
    "    print(i)"
   ]
  },
  {
   "cell_type": "markdown",
   "metadata": {},
   "source": [
    "As you can see, the **for** loop iterates the variable **i** over the list **days**, taking each of the values and printing the day on the screen.\n",
    "\n",
    "On the other hand, if we took a numerical list and iterated it in the same way, it would only print the numerical values of this list."
   ]
  },
  {
   "cell_type": "code",
   "execution_count": null,
   "metadata": {},
   "outputs": [],
   "source": [
    "numbers=[1,2,3,4,5]\n",
    "\n",
    "for j in numbers:\n",
    "    print(j)    "
   ]
  },
  {
   "cell_type": "markdown",
   "metadata": {},
   "source": [
    "So we can see that in this case we change the list and then iterate with a new variable, in this case j.\n",
    "\n",
    "Furthermore, we can not only iterate the values in a list, we could also perform some operation within the loop, in this case we define a new list and then the product variable."
   ]
  },
  {
   "cell_type": "code",
   "execution_count": null,
   "metadata": {},
   "outputs": [],
   "source": [
    "multiplicative=(2,2,2,3,3,5)\n",
    "product=1\n",
    "\n",
    "for i in multiplicative:\n",
    "     product=product*i\n",
    "\n",
    "product"
   ]
  },
  {
   "cell_type": "markdown",
   "metadata": {},
   "source": [
    "In this case the **for** loop iterates the **multiplicative** list values and then in each iteration it multiplies the value of the *product* variable by the value of *multiplicatives* and stores it."
   ]
  },
  {
   "cell_type": "code",
   "execution_count": null,
   "metadata": {},
   "outputs": [],
   "source": [
    "for i in range(5):\n",
    "     print(\"This i is the number: \",i)"
   ]
  },
  {
   "cell_type": "markdown",
   "metadata": {},
   "source": [
    "Returning to the first cycle, we could also use the **range()** function, to optimize the iteration of the variable **i**. Thus it is not necessary to define the list to iterate and we only assign the value up to which we want to iterate to the **range()** function."
   ]
  },
  {
   "cell_type": "markdown",
   "metadata": {},
   "source": [
    "#### While Loop\n",
    "\n",
    "In addition to the for loop that we saw in the previous section, we may also want to iterate a list or a process while a certain condition is met. For this we use the **while** loop, which unlike the previous case where we iterate a variable, For the while loop we expect that as long as a condition is met, the instructions within it will be executed.\n",
    "\n",
    "It should be noted that for the **while** loop, special consideration must be taken, since if the condition we establish is never met, the while loop is executed infinitely, potentially causing the software or the PC to consume all the memory and having to restart the process or even the PC.\n",
    "\n",
    "Next, the value of the variable **i=0** is defined, then the loop begins by validating this condition, as it is true it then prints the value of the variable and then **i=i+1**. Finally this operation It is repeated until i takes the value 9, since when it takes the value 10, the condition **i<10** is no longer true."
   ]
  },
  {
   "cell_type": "code",
   "execution_count": null,
   "metadata": {},
   "outputs": [],
   "source": [
    "i=0\n",
    "\n",
    "while i<10:\n",
    "    print(i,end=\" \")\n",
    "    i=i+1"
   ]
  },
  {
   "cell_type": "markdown",
   "metadata": {},
   "source": [
    "On the other hand, if we execute the next block, the cycle is executed infinitely since the condition will always be true, causing the software to collapse and close... 🔥"
   ]
  },
  {
   "cell_type": "code",
   "execution_count": null,
   "metadata": {},
   "outputs": [],
   "source": [
    "i=True\n",
    "\n",
    "while i==True:\n",
    "    print(i)\n",
    "    "
   ]
  },
  {
   "cell_type": "markdown",
   "metadata": {},
   "source": [
    "Another important aspect in Python is that when we define a list it is possible to use loops within them. In some cases we only require some values within a list, but if we seek to create a sequence that has a greater length, such as perhaps a list With the values from 1 to 20, a simple way to write it would be as follows:"
   ]
  },
  {
   "cell_type": "code",
   "execution_count": null,
   "metadata": {},
   "outputs": [],
   "source": [
    "serie_1=[n for n in range(1,21)]\n",
    "serie_1"
   ]
  },
  {
   "cell_type": "markdown",
   "metadata": {},
   "source": [
    "Remember that in Python the upper limit is specified by the following value, that is why within the range() function we use 21 and not 20."
   ]
  },
  {
   "cell_type": "markdown",
   "metadata": {},
   "source": [
    "But we will not always need to create the same lists, in some cases we could need the list to start or end with different values. For this we could make use of the functions... which are our best ally when we want to encapsulate a process that we carry out with great care. frequency 📲"
   ]
  },
  {
   "cell_type": "code",
   "execution_count": null,
   "metadata": {},
   "outputs": [],
   "source": [
    "def lists(start=1,end=5):\n",
    "    return [n for n in range(start,end)]\n",
    "\n",
    "l1=listas()\n",
    "l1"
   ]
  },
  {
   "cell_type": "code",
   "execution_count": null,
   "metadata": {},
   "outputs": [],
   "source": [
    "l2=lists(start=10,end=21)\n",
    "l2"
   ]
  },
  {
   "cell_type": "markdown",
   "metadata": {},
   "source": [
    "As seen in the first block, once we define the **lists** function and call it to create our first list **l1**, the list is created with the default values. However, when we call it to create the list **l2** with different limits, the list is immediately created with the values that start at 10 and end at 20.📌"
   ]
  },
  {
   "cell_type": "markdown",
   "metadata": {},
   "source": [
    "<a id='Dictionaries'></a>\n",
    "### Dictionaries 📗\n",
    "\n",
    "[Index ▲](#Index)\n",
    "\n",
    "Up to this point in the course, we have already seen most of the important aspects to at least start working with Python, however one of the points where Python is excellent is with the manipulation of strings or text strings.\n",
    "\n",
    "Although we have already defined and performed some operations with strings, it is always good to review before moving on to the most interesting part of this section...the dictionaries. 📚\n",
    "\n",
    "We had seen that some text strings could be defined and stored in variables like the ones shown below"
   ]
  },
  {
   "cell_type": "code",
   "execution_count": null,
   "metadata": {},
   "outputs": [],
   "source": [
    "x=\"monday is a day\"\n",
    "y=\"Monday is a day\""
   ]
  },
  {
   "cell_type": "markdown",
   "metadata": {},
   "source": [
    "As we can see here, in both variables the same text is apparently saved, but the first letter is not in capital letters in both variables, therefore when validating if they are equal a False will be returned."
   ]
  },
  {
   "cell_type": "code",
   "execution_count": null,
   "metadata": {},
   "outputs": [],
   "source": [
    "x==y"
   ]
  },
  {
   "cell_type": "code",
   "execution_count": null,
   "metadata": {},
   "outputs": [],
   "source": [
    "On the other hand, we define text strings in exactly the same way."
   ]
  },
  {
   "cell_type": "code",
   "execution_count": null,
   "metadata": {},
   "outputs": [],
   "source": [
    "x=\"Monday is a day\"\n",
    "y=\"Monday is a day\"\n",
    "\n",
    "x==y"
   ]
  },
  {
   "cell_type": "markdown",
   "metadata": {},
   "source": [
    "Now we can verify that both text strings are the same."
   ]
  },
  {
   "cell_type": "markdown",
   "metadata": {},
   "source": [
    "However, we might also want to skip a line in some cases, as in the following."
   ]
  },
  {
   "cell_type": "code",
   "execution_count": null,
   "metadata": {},
   "outputs": [],
   "source": [
    "a=print(\"Mond\\nay is a day\")\n",
    "a"
   ]
  },
  {
   "cell_type": "markdown",
   "metadata": {},
   "source": [
    "In this case we see that by adding the **\"\\n\"**, immediately everything that comes after is written on the next line... and of course we could use it again if we wanted to write each word on a new line"
   ]
  },
  {
   "cell_type": "code",
   "execution_count": null,
   "metadata": {},
   "outputs": [],
   "source": [
    "a=print(\"Monday\\nis\\na\\nday\")\n",
    "a"
   ]
  },
  {
   "cell_type": "markdown",
   "metadata": {},
   "source": [
    "Since we have already worked with the function, we know that it automatically adds a new line unless we specify a term value."
   ]
  },
  {
   "cell_type": "code",
   "execution_count": null,
   "metadata": {},
   "outputs": [],
   "source": [
    "print(\"Tuesday is another day of the week\")\n",
    "print(\"Wednesday is another day of the week\",end='')\n",
    "print(\"Thursday is another day of the week\",end='')"
   ]
  },
  {
   "cell_type": "markdown",
   "metadata": {},
   "source": [
    "As you can see in the previous case, if we use the usual print, the next text that is printed goes to the next line. However, when we make the second print we add the argument **end= ''**, the which in this case allows the text to continue on the same line once printed, unless we use the **\\n** value that comes by default."
   ]
  },
  {
   "cell_type": "code",
   "execution_count": null,
   "metadata": {},
   "outputs": [],
   "source": [
    "print(\"Friday is another day of the week\",end='\\n')\n",
    "print(\"No work on Saturday\")"
   ]
  },
  {
   "cell_type": "markdown",
   "metadata": {},
   "source": [
    "But text strings can not only be a set of words, but we can separate them into characters.\n",
    "\n",
    "If we consider the last text string:"
   ]
  },
  {
   "cell_type": "code",
   "execution_count": null,
   "metadata": {},
   "outputs": [],
   "source": [
    "Saturday=\"No work on Saturday\"\n",
    "saturday[3]"
   ]
  },
  {
   "cell_type": "markdown",
   "metadata": {},
   "source": [
    "As we can see, it is possible to store a text string in a variable and then select each of the characters in it, and little by little concatenate the characters of the entire text string."
   ]
  },
  {
   "cell_type": "code",
   "execution_count": null,
   "metadata": {},
   "outputs": [],
   "source": [
    "saturday=\"No work on Saturday\"\n",
    "saturday[0]+saturday[1]+saturday[2]+saturday[3:19]"
   ]
  },
  {
   "cell_type": "markdown",
   "metadata": {},
   "source": [
    "We could even determine the number of letters in the phrase **\"There is no work on Saturday\"**"
   ]
  },
  {
   "cell_type": "code",
   "execution_count": null,
   "metadata": {},
   "outputs": [],
   "source": [
    "print('The length of variable saturday is of',len(saturday),'character')"
   ]
  },
  {
   "cell_type": "markdown",
   "metadata": {},
   "source": [
    "## Dictionaries\n",
    "\n",
    "So far we have worked with characters, text strings or strings and numerical variables. But one of the most important aspects in Python are dictionaries, which are data structures that allow mapping keys to values, this implies that we can index a set of values to another set of keys or braces."
   ]
  },
  {
   "cell_type": "code",
   "execution_count": null,
   "metadata": {},
   "outputs": [],
   "source": [
    "numbers={\"one\":1,\"two\":2,\"three\":3}\n",
    "numbers\n",
    "numbers[\"three\"]"
   ]
  },
  {
   "cell_type": "markdown",
   "metadata": {},
   "source": [
    "In the case of the number dictionary, *\"one\", \"two\" and \"three\"* are the keys and the values *1,2 and 3* are the values.\n",
    "\n",
    "In this case we can access each of the values using the keys."
   ]
  },
  {
   "cell_type": "code",
   "execution_count": null,
   "metadata": {},
   "outputs": [],
   "source": [
    "numbers[\"one\"]"
   ]
  },
  {
   "cell_type": "markdown",
   "metadata": {},
   "source": [
    "So we can select the first value, but we could also add other values using a new key."
   ]
  },
  {
   "cell_type": "code",
   "execution_count": null,
   "metadata": {},
   "outputs": [],
   "source": [
    "numbers[\"four\"]=4\n",
    "numbers"
   ]
  },
  {
   "cell_type": "markdown",
   "metadata": {},
   "source": [
    "Or even changing just some of those values already associated with a key."
   ]
  },
  {
   "cell_type": "code",
   "execution_count": null,
   "metadata": {},
   "outputs": [],
   "source": [
    "numbers[\"one\"]=\"Monday\"\n",
    "numbers"
   ]
  },
  {
   "cell_type": "markdown",
   "metadata": {},
   "source": [
    "So finally we could even iterate a dictionary using a for loop."
   ]
  },
  {
   "cell_type": "code",
   "execution_count": null,
   "metadata": {},
   "outputs": [],
   "source": [
    "for i in numbers:\n",
    "    print(numbers[i])"
   ]
  },
  {
   "cell_type": "markdown",
   "metadata": {},
   "source": [
    "Or even validate if a key is found in the dictionary."
   ]
  },
  {
   "cell_type": "code",
   "execution_count": null,
   "metadata": {},
   "outputs": [],
   "source": [
    "\"one\" in numbers"
   ]
  },
  {
   "cell_type": "code",
   "execution_count": null,
   "metadata": {},
   "outputs": [],
   "source": [
    "\"five\" in numbers"
   ]
  },
  {
   "cell_type": "code",
   "execution_count": null,
   "metadata": {},
   "outputs": [],
   "source": [
    "numbers"
   ]
  },
  {
   "cell_type": "markdown",
   "metadata": {},
   "source": [
    "Some other operations that we can do in Python is to rename the values of a dictionary by iterating the values of the keys of the same dictionary."
   ]
  },
  {
   "cell_type": "code",
   "execution_count": null,
   "metadata": {},
   "outputs": [],
   "source": [
    "days=[\"Monday\",\"Tuesday\",\"Wednesday\",\"Thursday\",\"Friday\"]\n",
    "\n",
    "days_json={day:day[0] for day in days}\n",
    "days_json"
   ]
  },
  {
   "cell_type": "markdown",
   "metadata": {},
   "source": [
    "In this case, a dictionary was created where its keys are the days of the week and the values correspond to each of the first characters of the keys.\n",
    "\n",
    "But even the value could be a shorter version of the key name or a short description if applicable. In this case, by changing the number of characters to select from **day[0]** to **day[0 :3]**, we go from only considering the first letter to the first 3."
   ]
  },
  {
   "cell_type": "code",
   "execution_count": null,
   "metadata": {},
   "outputs": [],
   "source": [
    "days=[\"Monday\",\"Tuesday\",\"Wednesday\",\"Thursday\",\"Friday\"]\n",
    "\n",
    "days_json={day:day[0:3] for day in days}\n",
    "days_json"
   ]
  },
  {
   "cell_type": "markdown",
   "metadata": {},
   "source": [
    "Finalmente, si quisieramos podriamos utilizar métodos sobre los diccionarios que hemos creado para realizar algunas tareas sencillas."
   ]
  },
  {
   "cell_type": "code",
   "execution_count": null,
   "metadata": {},
   "outputs": [],
   "source": [
    "days_json.values()"
   ]
  },
  {
   "cell_type": "markdown",
   "metadata": {},
   "source": [
    "En este caso se utilIn this case, the **.values()** method was used to display all the values of the dictionary on the screen.izó el método **.values()** para mostrar por pantalla todos los valores del diccionario."
   ]
  },
  {
   "cell_type": "markdown",
   "metadata": {},
   "source": [
    "<a id='Working-with-libraries'></a>\n",
    "### Working with libraries 🎮\n",
    "\n",
    "[Index ▲](#Index)\n",
    "\n",
    "There are several topics that we have touched on in this course from the declaration of numerical, string and boolean variables and even some data structures. But we still have to see how we can work with libraries within the Python environment which are very important if we want to extend the capabilities of Python, although we will not see all the libraries that can be used in Python since there are many, which range from the definition of numerical variables, development of graphs, connection to databases, development of user interfaces and even the use of machine learning models, which is enough content and material for a more advanced course. However, we will see 3 libraries widely used in both industry and academia.\n",
    "\n",
    "The first is **Numpy** which is a library specialized in numerical calculation and data analysis, one of the most important aspects is that you can define a data structure called **arrays** which are processed much more faster than the lists that Python handles by default 🙄. The second is **Matplotlib** which is a standard library to start developing visualizations in Python, the third is **Plotly** another visualization library, which I personally like for its syntax, simplicity and because it is also implemented for Software R and finally we will see **Scikit-Learn**, which is one of the most important and used libraries for the implementation of machine learning models."
   ]
  },
  {
   "cell_type": "markdown",
   "metadata": {},
   "source": [
    "<a id='Library-Numpy'></a>\n",
    "#### Library Numpy\n",
    "\n",
    "[Index ▲](#Index)\n",
    "\n",
    "As we had already said, one of the strong points of the **Numpy** library are the **array** objects, which are made up of elements of the same type and which can be 1,2 or n dimensions. Thus we could define a * list* or 1-dimensional array, a *matrix* or 2-dimensional array or also a *cube* which would be a 3-dimensional array.\n",
    "\n",
    "However, first we should load the numpy library"
   ]
  },
  {
   "cell_type": "code",
   "execution_count": null,
   "metadata": {},
   "outputs": [],
   "source": [
    "import numpy"
   ]
  },
  {
   "cell_type": "markdown",
   "metadata": {},
   "source": [
    "Once loaded we can use all the functions that come within this library. It should be noted that we can load the library with its default name or with an abbreviated form, which will help us every time we call the functions within it."
   ]
  },
  {
   "cell_type": "code",
   "execution_count": null,
   "metadata": {},
   "outputs": [],
   "source": [
    "import numpy as np"
   ]
  },
  {
   "cell_type": "markdown",
   "metadata": {},
   "source": [
    "Unlike the lists that we can define regularly in Python, to define a 1-dimensional list or array we have to"
   ]
  },
  {
   "cell_type": "code",
   "execution_count": null,
   "metadata": {},
   "outputs": [],
   "source": [
    "a1=np.array([10,20,30,40])\n",
    "print(a1)"
   ]
  },
  {
   "cell_type": "markdown",
   "metadata": {},
   "source": [
    "In the same way, if we wanted to define a 2-dimensional array"
   ]
  },
  {
   "cell_type": "code",
   "execution_count": null,
   "metadata": {},
   "outputs": [],
   "source": [
    "a2=np.array([[10,20,30,40],[50,60,70,80]])\n",
    "print(a2)"
   ]
  },
  {
   "cell_type": "markdown",
   "metadata": {},
   "source": [
    "And continuing with the idea, then a 3-dimensional array can be defined as follows"
   ]
  },
  {
   "cell_type": "code",
   "execution_count": null,
   "metadata": {},
   "outputs": [],
   "source": [
    "a3=np.array([[[10,20,30],[40,50,60]],[[70,80,90],[110,120,130]]])\n",
    "print(a3)"
   ]
  },
  {
   "cell_type": "markdown",
   "metadata": {},
   "source": [
    "Therefore, if we want to access the elements of any type of array, we must use the indexes just as we access the elements of a list, but selecting the indexes of each dimension."
   ]
  },
  {
   "cell_type": "code",
   "execution_count": null,
   "metadata": {},
   "outputs": [],
   "source": [
    "#To access the element of row 0 column 0 of the 2-dimensional array\n",
    "print(a2[0,0])\n",
    "\n",
    "#To access the element of row 1 column 2 of the 2-dimensional array\n",
    "print(a2[1,2])"
   ]
  },
  {
   "cell_type": "markdown",
   "metadata": {},
   "source": [
    "But we could also use some methods to obtain some important characteristics of an array, such as those shown in the following table.\n",
    "<table ><tr><th >Attribute<th><th>Method<th><th>Detail<tr><tr>\n",
    "<tr><td>Dimension Number<td><td>a.ndim()<td><td>Returns the number of dimensions of the array a.<td><tr>\n",
    "<tr><td>Dimensions<td><td>a.shape()<td><td>Returns a tuple with the dimensions of the array a.<td><tr>\n",
    "<tr><td>Size<td><td>a.size()<td><td>Returns the number of elements in array a.<td><tr>\n",
    "<tr><td>Data type<td><td>a.dtype()<td><td>Returns the data type of the elements of the array a.<td><tr><table>"
   ]
  },
  {
   "cell_type": "code",
   "execution_count": null,
   "metadata": {},
   "outputs": [],
   "source": [
    "# Number of dimensions for each of the arraysprint(np.ndim(a1))\n",
    "print(np.ndim(a2))\n",
    "print(np.ndim(a3))"
   ]
  },
  {
   "cell_type": "code",
   "execution_count": null,
   "metadata": {},
   "outputs": [],
   "source": [
    "# Dimensions for each of the arrays\n",
    "print(np.shape(a1))\n",
    "print(np.shape(a2))\n",
    "print(np.shape(a3))"
   ]
  },
  {
   "cell_type": "markdown",
   "metadata": {},
   "source": [
    "As you can see in the first case with the **a.ndim()** method, only the number of dimensions is shown to us, but with the **a.shape()** method the explicit dimensions are shown.\n",
    "\n",
    "But we can even perform operations with arrays even if they have different dimensions and values in these dimensions, since they will operate only on those available dimensions."
   ]
  },
  {
   "cell_type": "code",
   "execution_count": null,
   "metadata": {},
   "outputs": [],
   "source": [
    "print(a1*2)"
   ]
  },
  {
   "cell_type": "code",
   "execution_count": null,
   "metadata": {},
   "outputs": [],
   "source": [
    "print(2*a2/a2)"
   ]
  },
  {
   "cell_type": "markdown",
   "metadata": {},
   "source": [
    "In the same way we could perform algebraic operations with vectors and matrices"
   ]
  },
  {
   "cell_type": "code",
   "execution_count": null,
   "metadata": {},
   "outputs": [],
   "source": [
    "import numpy as np\n",
    "b1=np.array([1,2,3])\n",
    "b2=np.array([1,0,1])\n",
    "\n",
    "#b1.dot(b2) determines the dot product between the vectors b1 and b2\n",
    "print(b1.dot(b2))"
   ]
  },
  {
   "cell_type": "markdown",
   "metadata": {},
   "source": [
    "So we could also transpose a matrix using **a.T**."
   ]
  },
  {
   "cell_type": "code",
   "execution_count": null,
   "metadata": {},
   "outputs": [],
   "source": [
    "import numpy as np\n",
    "a=np.array([[1,2,3],[4,5,6]])\n",
    "\n",
    "print(a)\n",
    "print(a.T)"
   ]
  },
  {
   "cell_type": "markdown",
   "metadata": {},
   "source": [
    "We can even solve systems of linear equations using **solve(a,b)**."
   ]
  },
  {
   "cell_type": "code",
   "execution_count": null,
   "metadata": {},
   "outputs": [],
   "source": [
    "import numpy as np\n",
    "\n",
    "# The following is a system of 2 linear equations with 2 variables\n",
    "#2x+3y=10\n",
    "#4x+5y=8\n",
    "\n",
    "a=np.array([[2,3],[4,5]])\n",
    "b=np.array([10,8])\n",
    "print(np.linalg.solve(a,b))"
   ]
  },
  {
   "cell_type": "markdown",
   "metadata": {},
   "source": [
    "Some other functions to work with linear algebra are the following:\n",
    "    \n",
    "<table ><tr><th >Method<th><th>Operation <th><th>Description<tr><tr>\n",
    "<tr><td>dot(b)<td><td>Scalar product<td><td>Determines the scalar product between vectors a and b.<td><tr>\n",
    "<tr><td>norm(a)<td><td>Module of a vector<td><td>Determines the module of the vector v.<td><tr>\n",
    "<tr><td>a.dot(b)<td><td>Product of 2 matrices<td><td>Determines the matrix product of matrices a and b.<td><tr>\n",
    "<tr><td>a.T<td><td>Transposed matrix<td><td>Determines the transposed matrix of the matrix a.<td><tr>\n",
    "<tr><td>a.trace()<td><td>Trace of a matrix<td><td>Determines the main diagonal sum of the square matrix a.<td><tr>\n",
    "<tr><td>det(a)<td><td>Determinant of a matrix<td><td>Returns the determinant of the matrix a.<td><tr>\n",
    "<tr><td>inv(a)<td><td>Inverse Matrix<td><td>Determines the inverse matrix of the square matrix a.<td><tr>\n",
    "<tr><td>eigvals(a)<td><td>Eigenvalues of a matrix<td><td>Determines the eigenvalues of the square matrix a.<td><tr>\n",
    "<tr><td>eig(a)<td><td>Eigenvectors of a matrix<td><td>Determines the eigenvectors of the square matrix a.<td><tr>\n",
    "<tr><td>solve(a,b)<td><td>Solution of a system of equations<td><td>Determines the solution of a system of linear equations.<td><tr><table>"
   ]
  },
  {
   "cell_type": "markdown",
   "metadata": {},
   "source": [
    "<a id='Library Matplotlib'></a>\n",
    "#### Library Matplotlib \n",
    "\n",
    "[Index ▲](#Index)\n",
    "\n",
    "The time has come...🥁 so far we have seen the definition of variables of different types as well as data structures, among other relevant aspects in Python, we have even loaded **Numpy**... our first library.\n",
    "\n",
    "But now it is the turn to use the Matplotlib library, which is developed for the creation of graphics. It should be noted that it is not the only library for graphics development.\n",
    "\n",
    "Some of the graphs that can be developed with Matplotlib and that we will see are the following:\n",
    "\n",
    "* Scatter plots\n",
    "* Line diagrams\n",
    "* Box plots\n",
    "* Bar charts\n",
    "* Histogram\n",
    "\n",
    "One of the most used graphics are scatter diagrams, since they quickly allow us to visualize how the data is distributed in space. In some cases we will have to use other graphics to better represent the information, but it is a good starting point. . 💡"
   ]
  },
  {
   "cell_type": "code",
   "execution_count": null,
   "metadata": {},
   "outputs": [],
   "source": [
    "#We bring the pyplot module in abbreviated form as plt\n",
    "import matplotlib.pyplot as plt\n",
    "\n",
    "#The figure and axes are created\n",
    "fig,ax=plt.subplots()\n",
    "\n",
    "#The points of both the x and y axis are defined where diagram\n",
    "ax.scatter(x=[1,1.5,2,2.5,3],y=[1,1.5,2,1.5,1])\n",
    "\n",
    "#Optionally we can define the size of the figure\n",
    "fig.set_size_inches(4,4)\n",
    "\n",
    "#Finally we show the graph\n",
    "plt.show()"
   ]
  },
  {
   "cell_type": "markdown",
   "metadata": {},
   "source": [
    "However, to make some graphics like those already mentioned, we can use functions developed specifically for that task, shown below:"
   ]
  },
  {
   "cell_type": "markdown",
   "metadata": {},
   "source": [
    "#### Scatterplots\n",
    "\n",
    "To develop a scatter diagram, which allows us to visualize the points with coordinates on the x and y axis, we must use the function **scatter(x,y)** as in the previous case that we saw, but without a doubt we could represent a larger data set."
   ]
  },
  {
   "cell_type": "code",
   "execution_count": null,
   "metadata": {},
   "outputs": [],
   "source": [
    "import matplotlib.pyplot as plt\n",
    "\n",
    "fig,ax=plt.subplots()\n",
    "ax.scatter([1,3,0.5,5,0.4,1.9,2.6],[0.9,3,5,2.5,7.6,4.3,7])\n",
    "\n",
    "#Remember that defining the size of the figure is optional\n",
    "fig.set_size_inches(4,4)\n",
    "\n",
    "plt.show()"
   ]
  },
  {
   "cell_type": "markdown",
   "metadata": {},
   "source": [
    "#### Line diagrams\n",
    "\n",
    "With the line diagram we seek to represent again a set of points that have coordinates in x and y, however the distances between each pair of successive points are also connected with the function **plot(x,y)**"
   ]
  },
  {
   "cell_type": "code",
   "execution_count": null,
   "metadata": {},
   "outputs": [],
   "source": [
    "import matplotlib.pyplot as plt\n",
    "\n",
    "fig,ax=plt.subplots()\n",
    "ax.plot([1.5,2,3,4],[1,0.75,1.5,0.5])\n",
    "\n",
    "fig.set_size_inches(4,4)\n",
    "\n",
    "plt.show()"
   ]
  },
  {
   "cell_type": "markdown",
   "metadata": {},
   "source": [
    "#### Boxplots\n",
    "\n",
    "Unlike the previous graphs, in this case the box plot allows you to visualize some relevant statistics of a sample. In this case we must use the **boxplot(x)** function"
   ]
  },
  {
   "cell_type": "code",
   "execution_count": null,
   "metadata": {},
   "outputs": [],
   "source": [
    "import matplotlib.pyplot as plt\n",
    "\n",
    "fig,ax=plt.subplots()\n",
    "ax.boxplot([2.3,4.5,1,8,10,4.5,5.6,7.6,3.4,2.4,20])\n",
    "\n",
    "fig.set_size_inches(4,4)\n",
    "\n",
    "plt.show()"
   ]
  },
  {
   "cell_type": "markdown",
   "metadata": {},
   "source": [
    "#### Bar charts\n",
    "\n",
    "The bar graph generally allows us to visualize 2 axes, where on the **y-axis** we position the categories and on the **x-axis** the magnitude counted for each category.\n",
    "\n",
    "So to develop a bar chart in Python we use the syntax **barh(x,y)**"
   ]
  },
  {
   "cell_type": "code",
   "execution_count": null,
   "metadata": {},
   "outputs": [],
   "source": [
    "import matplotlib.pyplot as plt\n",
    "\n",
    "fig,ax=plt.subplots()\n",
    "ax.barh([1,2,3],[3,2,1])\n",
    "\n",
    "fig.set_size_inches(4,4)\n",
    "\n",
    "plt.show()"
   ]
  },
  {
   "cell_type": "markdown",
   "metadata": {},
   "source": [
    "#### Histogram\n",
    "\n",
    "Finally, one of the most used graphs in descriptive and inferential statistics, along with box graphs. The histogram allows us to visualize the frequency distribution once we group the data into a sample. It should be noted that we can define the number of columns we want it to have. our diagram.\n",
    "\n",
    "In this case we will also use the **numpy** library to generate 1000 random numbers using a normal distribution with $\\bar{X}=10$ and $\\sigma=0.8$."
   ]
  },
  {
   "cell_type": "code",
   "execution_count": null,
   "metadata": {},
   "outputs": [],
   "source": [
    "import numpy as np\n",
    "import matplotlib.pyplot as plt\n",
    "\n",
    "fig,ax=plt.subplots()\n",
    "x=np.random.normal(10,0.8,1000)\n",
    "ax.hist(x,10)\n",
    "\n",
    "fig.set_size_inches(4,4)\n",
    "\n",
    "plt.show()"
   ]
  },
  {
   "cell_type": "markdown",
   "metadata": {},
   "source": [
    "<a id='Library-Matplotlib'></a>\n",
    "### Library Plotly \n",
    "\n",
    "[Index ▲](#Index)\n",
    "\n",
    "Just as we saw with the Matplotlib library, with Plotly the development of graphics is also possible, however it is possible to develop a greater number of graphics than with matplotlib, being able to develop statistical, financial, geographical, scientific and 3-dimensional graphics. It should be noted that despite presenting a greater number of graphics we will only see the main ones, since more advanced graphics require greater code syntax and the use of other libraries in some cases.\n",
    "\n",
    "Along with the above, Plotly allows the development of interactive graphics that can be implemented in Jupyter notebook like this one, saved in HTML format or even in applications using Dash, Shiny or other frameworks."
   ]
  },
  {
   "cell_type": "markdown",
   "metadata": {},
   "source": [
    "Just as with matplotlib we start by looking at the scatter plots, in this case we can also develop a first graph of this type, taking into account that we must load the **Plotly** library"
   ]
  },
  {
   "cell_type": "code",
   "execution_count": null,
   "metadata": {},
   "outputs": [],
   "source": [
    "import plotly.express as px\n",
    "\n",
    "#The offline submodule is imported to then use plotly in the HTML document\n",
    "import plotly.offline as pyo\n",
    "pyo.init_notebook_mode()\n",
    "\n",
    "fig = px.scatter(x=[0, 1, 2, 3, 4], y=[0, 1, 4, 9, 16])\n",
    "fig.show()"
   ]
  },
  {
   "cell_type": "markdown",
   "metadata": {},
   "source": [
    "Although visually the scatter plots developed with **Matplotlib** and **Plotly** have some minimal differences, perhaps one of their most important aspects is that having a very similar syntax also includes the possibility of interacting with the graph, using tools such as zoom, cropping and even downloading the graph.\n",
    "\n",
    "Some other graphics that we can develop with the Plotly library are the following:\n",
    "\n",
    "* Line charts\n",
    "* Bar charts\n",
    "* Pie charts\n",
    "* Histograms\n",
    "* Box plots"
   ]
  },
  {
   "cell_type": "markdown",
   "metadata": {},
   "source": [
    "### Line Charts\n",
    "\n",
    "\n",
    "Just as we saw with the scatter graph we can also develop line graphs where we can visualize 1 or more series if necessary, the syntax for this type of graph is shown below."
   ]
  },
  {
   "cell_type": "code",
   "execution_count": null,
   "metadata": {},
   "outputs": [],
   "source": [
    "import plotly.express as px\n",
    "import pandas as pd\n",
    "\n",
    "fig= px.line(\n",
    "     x = [1, 2, 3, 4],\n",
    "     y = [1, 2, 3, 4]\n",
    ")\n",
    "fig.show()"
   ]
  },
  {
   "cell_type": "markdown",
   "metadata": {},
   "source": [
    "### Bar Charts\n",
    "\n",
    "When we make a bar graph, the categories we want to display are ordered on the X axis and the values or quantities for each of these categories are arranged on the y axis.\n",
    "To develop the graph, let's consider the following table:"
   ]
  },
  {
   "cell_type": "markdown",
   "metadata": {},
   "source": [
    "<table ><tr><th >Country <th><th> Medals <th><th> Quantity<tr><tr>\n",
    "<tr><td> South Korea <td><td> Gold <td><td> 25 <td><tr>\n",
    "<tr><td> China <td><td> Gold <td><td> 10 <td><tr>\n",
    "<tr><td> Canada <td><td> Gold <td><td> 9 <td><tr>\n",
    "<tr><td> South Korea <td><td> Silver <td><td> 13 <td><tr>\n",
    "<tr><td> China <td><td> Silver <td><td> 15 <td><tr>\n",
    "<tr><td> Canada <td><td> Silver <td><td> 12 <td><tr>\n",
    "<tr><td> South Korea <td><td> Bronze <td><td> 11 <td><tr>\n",
    "<tr><td> China <td><td> Bronze <td><td> 8 <td><tr>\n",
    "<tr><td> Canada <td><td> Bronze <td><td> 12 <td><tr><table>"
   ]
  },
  {
   "cell_type": "code",
   "execution_count": null,
   "metadata": {},
   "outputs": [],
   "source": [
    "import plotly.express as px\n",
    "\n",
    "#Here we are calling the table data set, which comes preloaded in the library\n",
    "long_df = px.data.medals_long()\n",
    "\n",
    "fig = px.bar(long_df, x=\"nation\", y=\"count\", color=\"medal\", title=\"Medal podium by country\")\n",
    "fig.show()"
   ]
  },
  {
   "cell_type": "markdown",
   "metadata": {},
   "source": [
    "### Pie Charts\n",
    "\n",
    "Unlike the previous graphs where we have the x and y axes as categories and values. In the pie graph we seek to represent a set of categories with their values.\n",
    "\n",
    "Below you can see the syntax to build the graph"
   ]
  },
  {
   "cell_type": "code",
   "execution_count": null,
   "metadata": {},
   "outputs": [],
   "source": [
    "import plotly.graph_objects as go\n",
    "\n",
    "labels = ['Oxygen','Hydrogen','Carbon Dioxide','Nitrogen']\n",
    "values = [4450, 2340, 1124, 670]\n",
    "\n",
    "fig = go.Figure(data=[go.Pie(labels=labels, values=values)])\n",
    "fig.show()"
   ]
  },
  {
   "cell_type": "markdown",
   "metadata": {},
   "source": [
    "### Histograms\n",
    "\n",
    "In comparison to the previous graphs, the histogram is a diagram that allows us to represent the accumulated frequencies in a certain sample, just as we saw with the Matplotlib library.\n",
    "\n",
    "In this case we will also use the numpy library to generate a sample using a normal distribution with parameters $N~(\\bar{X}=80,\\sigma=110)$"
   ]
  },
  {
   "cell_type": "code",
   "execution_count": null,
   "metadata": {},
   "outputs": [],
   "source": [
    "import plotly.express as px\n",
    "import numpy as np\n",
    "\n",
    "data = np.random.normal(100, 2, size=500) # replace with your own data source\n",
    "fig = px.histogram(data, range_x=[90, 110])\n",
    "fig.show()"
   ]
  },
  {
   "cell_type": "markdown",
   "metadata": {},
   "source": [
    "### Box Plots\n",
    "\n",
    "The box plot, although not homologous to the histogram, since the latter does not show the accumulated frequencies. On the other hand, the box plot shows a condensed visualization of the observations, where you can directly see some relevant statistics such as the $Q_{ 1}$, $Q_{2}$ or $Median$, $Q_{3}$, $Maximum$ and $Minimum$ in addition to the outliers.\n",
    "\n",
    "In this case, the syntax is shown to represent a sample generated with a uniform distribution $U~(a=50,b=100)$ and in addition to the box plot, the **points=all** parameter is enabled in the function to Also graph all observations."
   ]
  },
  {
   "cell_type": "code",
   "execution_count": null,
   "metadata": {},
   "outputs": [],
   "source": [
    "import plotly.express as px\n",
    "import pandas as pd\n",
    "\n",
    "data = np.random.uniform(50,100, size=500)\n",
    "fig = px.box(data,points=\"all\")\n",
    "\n",
    "fig.show()"
   ]
  },
  {
   "cell_type": "markdown",
   "metadata": {},
   "source": [
    "<a id='Library-Scikit-Learn'></a>\n",
    "### Library Scikit-Learn 📀\n",
    "\n",
    "[Index ▲](#Index)\n",
    "\n",
    "The **Scikit-Learn** library is a module developed in Python for the design and implementation of Machine Learning (ML) models. It should be noted that today ML ranges from classic inferential models to the most advanced... However, in this course we will only address some of the inference models.\n",
    "\n",
    "Although there are various libraries for the implementation of ML models such as: TensorFlow, Keras, Pytorch, Scikit-Learn is one of the most popular libraries used for machine learning models, due to the wide variety of regression, classification algorithms. ,analysis between groups, among others.\n",
    "\n",
    "Despite the different models offered by the library, we will only see in an introductory way 2 of the classic algorithms, corresponding to:\n",
    "\n",
    "* Linear regression\n",
    "* Logistic regression"
   ]
  },
  {
   "cell_type": "markdown",
   "metadata": {},
   "source": [
    "### Linear regression\n",
    "\n",
    "Now what we came to... in inferential statistics, one of the classic models is linear regression,\n",
    "which is a mathematical model that allows creating an approximate relationship between different independent variables\n",
    "$X_{i}$ and a dependent variable $Y$, we say that this relationship is approximate because we also consider an error term $\\epsilon$ within the mathematical model. In this way we can express the linear regression model as follows shape:\n",
    "\n",
    "$Y=\\beta_{0}+\\sum_{i=1}^{n}\\beta_{i}X_{i}+\\epsilon=\\beta_{0}+\\beta_{1}X_{1}+...+\\beta_{m}X_{m}+\\epsilon$\n",
    "\n",
    "It should be noted that here we are generalizing the linear regression model for $n$ variables, therefore only when the number of independent variables is $X_{i} \\leq 2$\n",
    "It is possible to graph the linear function, however when $2 \\leq X_{i}$ we are already talking about a hyperplane, which is not possible to graph but we can perform any type of operation and/or implementation of the linear model.\n",
    "\n",
    "\n"
   ]
  },
  {
   "cell_type": "code",
   "execution_count": null,
   "metadata": {},
   "outputs": [],
   "source": [
    "import matplotlib.pyplot as plt\n",
    "import numpy as np\n",
    "import pandas as pd\n",
    "\n",
    "from sklearn import datasets, linear_model\n",
    "from sklearn.metrics import mean_squared_error, r2_score\n",
    "\n",
    "# Loading the iris data set\n",
    "iris = datasets.load_iris()\n",
    "iris_df=pd.DataFrame(iris.data)\n",
    "\n",
    "# Names are assigned for each column of the dataset\n",
    "iris_df.columns=['sepal_len', 'sepal_wid', 'petal_len', 'petal_wid']\n",
    "\n",
    "# The variable \"sepal_len\" is selected as the independent variable and \"petal_len\" as the dependent variable\n",
    "data_x = iris_df.iloc[:,[0]]\n",
    "data_y = iris_df.iloc[:,[2]]\n",
    "\n",
    "# A linear regression model is instantiated\n",
    "regr = linear_model.LinearRegression()\n",
    "\n",
    "\n",
    "# The linear regression model is fitted with the variables x and y\n",
    "regr.fit(data_x, data_y)\n",
    "\n",
    "y_pred = regr.predict(data_x)\n",
    "\n",
    "# Model coefficient: $B0 and B1$\n",
    "print(\"Coefficients B0 and B1: \\n\", regr.intercept_,regr.coef_)\n",
    "# Mean square error\n",
    "print(\"Mean Squared Error: %.2f\" % mean_squared_error(data_y, y_pred))\n",
    "# Determination coefficient of the linear model:\n",
    "print(\"Coefficient of determination: %.2f\" % r2_score(data_y, y_pred))"
   ]
  },
  {
   "cell_type": "code",
   "execution_count": null,
   "metadata": {},
   "outputs": [],
   "source": [
    "# Data dispersion and linear model\n",
    "plt.scatter(data_x, data_y, color=\"blue\")\n",
    "plt.plot(data_x, y_pred, color=\"red\", linewidth=3)\n",
    "\n",
    "plt.xticks(())\n",
    "plt.yticks(())\n",
    "\n",
    "plt.show()"
   ]
  },
  {
   "cell_type": "markdown",
   "metadata": {},
   "source": [
    "### Logistic regression\n",
    "\n",
    "Unlike the linear regression model, the logistic regression model is used to predict categorical variables, based on one or more independent variables. Although this model, as well as the linear regression model, fall within the category of Generalized Linear Models and of its different configurations that we can define, we will only focus on the implementation of a model of the following type:\n",
    "\n",
    "$Y=\\frac{1}{(1+e^{-{\\beta_{0}+\\beta_{1} X_{1}+...+\\beta_{n} X_{n}}})}$\n",
    "\n",
    "As for the linear regression model, here we are generalizing into a classification model with $X_{n}$ independent variables. However, the model that we will implement below only considers 4 independent variables and 3 categories in the dependent variable $Y$ .\n",
    "\n"
   ]
  },
  {
   "cell_type": "code",
   "execution_count": null,
   "metadata": {},
   "outputs": [],
   "source": [
    "from sklearn.linear_model import LogisticRegression\n",
    "from sklearn.metrics import accuracy_score, classification_report, confusion_matrix\n",
    "\n",
    "import warnings\n",
    "\n",
    "# Warnings are ignored\n",
    "warnings.filterwarnings(\"ignore\")\n",
    "\n",
    "# Iris data set is loaded\n",
    "data = datasets.load_iris()\n",
    "x = data.data\n",
    "y = data.target\n",
    "\n",
    "# A logistic regression model is instantiated\n",
    "modelo = LogisticRegression()\n",
    "\n",
    "# Fits the model to the data\n",
    "modelo.fit(x, y)\n",
    "\n",
    "# Predictions are made\n",
    "y_pred = modelo.predict(x)\n"
   ]
  },
  {
   "cell_type": "code",
   "execution_count": null,
   "metadata": {},
   "outputs": [],
   "source": [
    "# Calculate model accuracy\n",
    "accuracy = accuracy_score(y, y_pred)\n",
    "print(\"Accuracy of model:\", accuracy)\n",
    "\n",
    "# Show confusion matrix\n",
    "confusion = confusion_matrix(y, y_pred)\n",
    "print(\"Confusion Matrix:\")\n",
    "print(confusion)\n",
    "\n",
    "# Show a ranking report\n",
    "report = classification_report(y, y_pred)\n",
    "print(\"Classification report:\")\n",
    "print(report)\n"
   ]
  },
  {
   "cell_type": "markdown",
   "metadata": {},
   "source": [
    "And we come to the end of this introductory course with Python for Data Science. This course presents a practical guide on how to start working with Python from a functional point of view. There are some concepts that are not considered in this course but will be addressed in subsequent courses where topics such as Object Oriented Programming, Algorithms, Visualization Development and even other Machine Learning Models will be delved into much more depth.\n",
    "\n",
    "If you have any questions or comments, you can write to me at jvenegasg@docente.uss.cl or j.venegasgutierrez@gmail.com\n",
    "\n",
    "Greetings 🧭"
   ]
  }
 ],
 "metadata": {
  "kernelspec": {
   "display_name": "Python 3 (ipykernel)",
   "language": "python",
   "name": "python3"
  },
  "language_info": {
   "codemirror_mode": {
    "name": "ipython",
    "version": 3
   },
   "file_extension": ".py",
   "mimetype": "text/x-python",
   "name": "python",
   "nbconvert_exporter": "python",
   "pygments_lexer": "ipython3",
   "version": "3.10.7"
  },
  "toc-autonumbering": true,
  "toc-showcode": false,
  "toc-showmarkdowntxt": false,
  "toc-showtags": false,
  "vscode": {
   "interpreter": {
    "hash": "26de051ba29f2982a8de78e945f0abaf191376122a1563185a90213a26c5da77"
   }
  }
 },
 "nbformat": 4,
 "nbformat_minor": 4
}
